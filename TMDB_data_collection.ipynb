{
 "cells": [
  {
   "cell_type": "code",
   "execution_count": null,
   "metadata": {},
   "outputs": [],
   "source": [
    "# Importing Packages\n",
    "import requests \n",
    "import json\n",
    "from time import sleep\n",
    "import pandas as pd"
   ]
  },
  {
   "cell_type": "code",
   "execution_count": null,
   "metadata": {},
   "outputs": [],
   "source": [
    "# Setting up the API key and base URL\n",
    "API_KEY = \"XXXXXXXXXXXXXXXX\" #enter in the API code\n",
    "BASE_URL = f\"https://api.themoviedb.org/3\""
   ]
  },
  {
   "cell_type": "markdown",
   "metadata": {},
   "source": [
    "First, I'm going to gather data on the top 25 movies per year since 1916. (Google said that it was when the first seuqel came out). Right now I only need to get the movie_id."
   ]
  },
  {
   "cell_type": "code",
   "execution_count": null,
   "metadata": {},
   "outputs": [],
   "source": [
    "# Function to get the top movies by year with filtered fields\n",
    "def get_top_movieID_by_year(year, num_movies=25):\n",
    "    movies = []\n",
    "    page = 1\n",
    "\n",
    "    while len(movies) < num_movies:\n",
    "        params = {\n",
    "            'api_key': API_KEY,\n",
    "            'primary_release_year': year,\n",
    "            'with_origin_country' : 'US',\n",
    "            'sort_by': 'revenue.desc',\n",
    "            'page': page\n",
    "        }\n",
    "        response = requests.get(f\"https://api.themoviedb.org/3/discover/movie\", params=params)\n",
    "        \n",
    "        # Check if the request was successful\n",
    "        if response.status_code != 200:\n",
    "            print(f\"Error {response.status_code} for year {year}, page {page}\")\n",
    "            break\n",
    "        \n",
    "        try:\n",
    "            data = response.json()\n",
    "        except requests.JSONDecodeError:\n",
    "            print(f\"Failed to decode JSON for year {year}, page {page}\")\n",
    "            break\n",
    "\n",
    "        if 'results' not in data:\n",
    "            print(f\"No data returned for year {year}, page {page}.\")\n",
    "            break\n",
    "\n",
    "        for movie in data['results']:\n",
    "            #retrive the movie id\n",
    "            movie_id = movie.get(\"id\")\n",
    "            movies.append(movie_id)\n",
    "                \n",
    "\n",
    "        if len(data['results']) < 20:  # Stop if fewer than 20 results on the last page\n",
    "            break\n",
    "        page += 1\n",
    "        #sleep(0.1)  # To avoid hitting the rate limit\n",
    "\n",
    "    return movies[:num_movies]"
   ]
  },
  {
   "cell_type": "code",
   "execution_count": null,
   "metadata": {
    "scrolled": false
   },
   "outputs": [],
   "source": [
    "# Collect top 25 movies since 1916 (the first year that a sequel was released)\n",
    "all_movies = []\n",
    "current_year = 2024 \n",
    "start_year = 1916\n",
    "\n",
    "for year in range(start_year, current_year + 1):\n",
    "    print(f\"Fetching data for year {year}...\")\n",
    "    movies = get_top_movieID_by_year(year)\n",
    "    all_movies.extend(movies)"
   ]
  },
  {
   "cell_type": "markdown",
   "metadata": {},
   "source": [
    "Now that I've got the movie IDs from 1916-2024, I want to gather specific variables for each of them. \n",
    "\n",
    "I want each movie's: \n",
    "- Title \n",
    "- Release Year\n",
    "- Budget\n",
    "- Revenue \n",
    "- Vote Average\n",
    "- Collection ID (this will help us determine if the movie is a sequel or not)"
   ]
  },
  {
   "cell_type": "code",
   "execution_count": null,
   "metadata": {},
   "outputs": [],
   "source": [
    "# Function to get specific details given a movie id\n",
    "def get_movie_details(movie_id):\n",
    "    \"\"\"Fetches movie details for a given movie ID from TMDb API.\"\"\"\n",
    "    url = f'https://api.themoviedb.org/3/movie/{movie_id}'\n",
    "    params = {\n",
    "        'api_key': API_KEY,\n",
    "        'language': 'en-US'\n",
    "    }\n",
    "    response = requests.get(url, params=params)\n",
    "    \n",
    "    if response.status_code == 200:\n",
    "        data = response.json()\n",
    "        # Retrieve only the fields we're interested in\n",
    "        return {\n",
    "            'movie_id': movie_id,\n",
    "            'title': data.get('title'),\n",
    "            'release_year': data.get('release_date', '').split('-')[0] if data.get('release_date') else None,\n",
    "            'budget': data.get('budget'),\n",
    "            'revenue': data.get('revenue'),\n",
    "            'vote_average': data.get('vote_average'),\n",
    "            'collection_id': data['belongs_to_collection']['id'] if data.get('belongs_to_collection') else None\n",
    "        }\n",
    "    else:\n",
    "        print(f\"Error {response.status_code} for movie ID {movie_id}\")\n",
    "        return None\n",
    "    \n",
    "# Funtion to get details from a list of movie id's\n",
    "def get_movie_data(movie_ids):\n",
    "    \"\"\"Fetches movie data for a list of movie IDs and returns it as a DataFrame.\"\"\"\n",
    "    movie_data = []\n",
    "\n",
    "    count = 0\n",
    "    \n",
    "    for movie_id in movie_ids:\n",
    "        details = get_movie_details(movie_id)\n",
    "        count = count + 1\n",
    "        if details:\n",
    "            movie_data.append(details)\n",
    "        print(f\"ID: {movie_id} | {count}/{len(movie_ids)}\")\n",
    "\n",
    "    return pd.DataFrame(movie_data)"
   ]
  },
  {
   "cell_type": "code",
   "execution_count": null,
   "metadata": {},
   "outputs": [],
   "source": [
    "# Convert the filtered data to a DataFrame and save to CSV\n",
    "df = get_movie_data(all_movies)\n",
    "df.to_csv('top25_per_year.csv', index=False)\n",
    "print(\"\\nData collection complete. Saved to 'top25_per_year.csv'\")"
   ]
  },
  {
   "cell_type": "markdown",
   "metadata": {},
   "source": [
    "That initial dataset is done!\n",
    "\n",
    "Now onto getting collection info. Collections are basically how TMDB groups franchise movies together. \n",
    "This will help us add a new variable \"is_sequel\" later on (in the R code).\n",
    "\n",
    "First, I need to gather all of the collection IDs for my top 25 movies"
   ]
  },
  {
   "cell_type": "code",
   "execution_count": null,
   "metadata": {},
   "outputs": [],
   "source": [
    "# Load the CSV file (replace 'your_file.csv' with the actual file path)\n",
    "df = pd.read_csv('top25_per_year.csv')\n",
    "\n",
    "# Extract a column into a list (replace 'column_name' with the actual column name)\n",
    "collections = df['collection_id'].tolist()\n",
    "\n",
    "# Display the list\n",
    "print(collections)"
   ]
  },
  {
   "cell_type": "code",
   "execution_count": null,
   "metadata": {
    "scrolled": false
   },
   "outputs": [],
   "source": [
    "collec_clean = [x for x in collections if pd.notna(x)]\n",
    "collec_clean = list(set(collec_clean))\n",
    "collec_clean = [int(x) for x in collec_clean]\n",
    "collec_clean"
   ]
  },
  {
   "cell_type": "markdown",
   "metadata": {},
   "source": [
    "Now that I have the collection ID's, I'm going to gather ALL of the movies from those collections. \n",
    "\n",
    "There may have been a more efficient way to do this, but I plan on sorting all of the movies in each collection by year.\n",
    "This allows me to determine the order of every movie in each franchise (i.e. 1st, 2nd, 3rd, etc.). Once I have the franchise order of each movie, I'll merge it with my top25 dataset to add a variable for the movie's order."
   ]
  },
  {
   "cell_type": "code",
   "execution_count": null,
   "metadata": {},
   "outputs": [],
   "source": [
    "## Defining functions\n",
    "\n",
    "def get_movies_in_collection(collection_id):\n",
    "    \"\"\"Fetches movies in a specific collection by collection ID.\"\"\"\n",
    "    url = f'https://api.themoviedb.org/3/collection/{collection_id}'\n",
    "    params = {\n",
    "        'api_key': API_KEY\n",
    "    }\n",
    "    response = requests.get(url, params=params)\n",
    "    \n",
    "    if response.status_code == 200:\n",
    "        data = response.json()\n",
    "        # Extract movies in the collection with movie_id and release year\n",
    "        movies = [\n",
    "            {\n",
    "                'collection_id': collection_id,\n",
    "                'movie_id': movie.get('id'),\n",
    "                'release_year': movie.get('release_date', '').split('-')[0]\n",
    "            }\n",
    "            for movie in data.get('parts', [])\n",
    "            if movie.get('release_date')  # Only include movies with a release date\n",
    "        ]\n",
    "        return movies\n",
    "    else:\n",
    "        print(f\"Error {response.status_code} for collection ID {collection_id}\")\n",
    "        return []\n",
    "\n",
    "def get_all_movies_in_collections(collection_ids):\n",
    "    \"\"\"Fetches all movies in a list of collection IDs and returns them as a DataFrame.\"\"\"\n",
    "    all_movies = []\n",
    "    \n",
    "    count = 0\n",
    "\n",
    "    for collection_id in collection_ids:\n",
    "        count = count+1\n",
    "        print(f\"Fetching movies for collection ID {collection_id}... |{count}/{len(collection_ids)} \")\n",
    "        movies = get_movies_in_collection(collection_id)\n",
    "        all_movies.extend(movies)\n",
    "        sleep(0.1)  # To avoid hitting the rate limit\n",
    "\n",
    "    return pd.DataFrame(all_movies)\n"
   ]
  },
  {
   "cell_type": "code",
   "execution_count": null,
   "metadata": {},
   "outputs": [],
   "source": [
    "# Get all movies in the specified collections and save to CSV\n",
    "df = get_all_movies_in_collections(collec_clean)\n",
    "print(df)\n",
    "df.to_csv('movies_in_specified_collections.csv', index=False)\n",
    "print(\"Data collection complete. Saved to 'movies_in_specified_collections.csv'\")"
   ]
  },
  {
   "cell_type": "code",
   "execution_count": null,
   "metadata": {},
   "outputs": [],
   "source": []
  }
 ],
 "metadata": {
  "kernelspec": {
   "display_name": "Python 3",
   "language": "python",
   "name": "python3"
  },
  "language_info": {
   "codemirror_mode": {
    "name": "ipython",
    "version": 3
   },
   "file_extension": ".py",
   "mimetype": "text/x-python",
   "name": "python",
   "nbconvert_exporter": "python",
   "pygments_lexer": "ipython3",
   "version": "3.8.5"
  }
 },
 "nbformat": 4,
 "nbformat_minor": 4
}
